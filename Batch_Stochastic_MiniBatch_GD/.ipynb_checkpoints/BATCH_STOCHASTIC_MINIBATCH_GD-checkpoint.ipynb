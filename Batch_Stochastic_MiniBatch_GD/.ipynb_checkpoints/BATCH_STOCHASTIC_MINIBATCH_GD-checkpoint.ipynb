{
 "cells": [
  {
   "cell_type": "code",
   "execution_count": 3,
   "metadata": {},
   "outputs": [],
   "source": [
    "import pandas as pd\n",
    "import numpy as np\n",
    "import matplotlib.pyplot as plt\n"
   ]
  },
  {
   "cell_type": "code",
   "execution_count": 4,
   "metadata": {},
   "outputs": [
    {
     "data": {
      "text/html": [
       "<div>\n",
       "<style scoped>\n",
       "    .dataframe tbody tr th:only-of-type {\n",
       "        vertical-align: middle;\n",
       "    }\n",
       "\n",
       "    .dataframe tbody tr th {\n",
       "        vertical-align: top;\n",
       "    }\n",
       "\n",
       "    .dataframe thead th {\n",
       "        text-align: right;\n",
       "    }\n",
       "</style>\n",
       "<table border=\"1\" class=\"dataframe\">\n",
       "  <thead>\n",
       "    <tr style=\"text-align: right;\">\n",
       "      <th></th>\n",
       "      <th>area</th>\n",
       "      <th>bedrooms</th>\n",
       "      <th>price</th>\n",
       "    </tr>\n",
       "  </thead>\n",
       "  <tbody>\n",
       "    <tr>\n",
       "      <th>0</th>\n",
       "      <td>1056</td>\n",
       "      <td>2</td>\n",
       "      <td>39.07</td>\n",
       "    </tr>\n",
       "    <tr>\n",
       "      <th>1</th>\n",
       "      <td>2600</td>\n",
       "      <td>4</td>\n",
       "      <td>120.00</td>\n",
       "    </tr>\n",
       "    <tr>\n",
       "      <th>2</th>\n",
       "      <td>1440</td>\n",
       "      <td>3</td>\n",
       "      <td>62.00</td>\n",
       "    </tr>\n",
       "    <tr>\n",
       "      <th>3</th>\n",
       "      <td>1521</td>\n",
       "      <td>3</td>\n",
       "      <td>75.00</td>\n",
       "    </tr>\n",
       "    <tr>\n",
       "      <th>4</th>\n",
       "      <td>1200</td>\n",
       "      <td>2</td>\n",
       "      <td>51.00</td>\n",
       "    </tr>\n",
       "    <tr>\n",
       "      <th>5</th>\n",
       "      <td>1170</td>\n",
       "      <td>2</td>\n",
       "      <td>38.00</td>\n",
       "    </tr>\n",
       "    <tr>\n",
       "      <th>6</th>\n",
       "      <td>2732</td>\n",
       "      <td>4</td>\n",
       "      <td>135.00</td>\n",
       "    </tr>\n",
       "    <tr>\n",
       "      <th>7</th>\n",
       "      <td>3300</td>\n",
       "      <td>4</td>\n",
       "      <td>155.00</td>\n",
       "    </tr>\n",
       "    <tr>\n",
       "      <th>8</th>\n",
       "      <td>1310</td>\n",
       "      <td>3</td>\n",
       "      <td>50.00</td>\n",
       "    </tr>\n",
       "    <tr>\n",
       "      <th>9</th>\n",
       "      <td>3700</td>\n",
       "      <td>5</td>\n",
       "      <td>167.00</td>\n",
       "    </tr>\n",
       "    <tr>\n",
       "      <th>10</th>\n",
       "      <td>1800</td>\n",
       "      <td>3</td>\n",
       "      <td>82.00</td>\n",
       "    </tr>\n",
       "    <tr>\n",
       "      <th>11</th>\n",
       "      <td>2785</td>\n",
       "      <td>4</td>\n",
       "      <td>140.00</td>\n",
       "    </tr>\n",
       "    <tr>\n",
       "      <th>12</th>\n",
       "      <td>1000</td>\n",
       "      <td>2</td>\n",
       "      <td>38.00</td>\n",
       "    </tr>\n",
       "    <tr>\n",
       "      <th>13</th>\n",
       "      <td>1100</td>\n",
       "      <td>2</td>\n",
       "      <td>40.00</td>\n",
       "    </tr>\n",
       "    <tr>\n",
       "      <th>14</th>\n",
       "      <td>2250</td>\n",
       "      <td>3</td>\n",
       "      <td>101.00</td>\n",
       "    </tr>\n",
       "    <tr>\n",
       "      <th>15</th>\n",
       "      <td>1175</td>\n",
       "      <td>2</td>\n",
       "      <td>42.00</td>\n",
       "    </tr>\n",
       "    <tr>\n",
       "      <th>16</th>\n",
       "      <td>1180</td>\n",
       "      <td>3</td>\n",
       "      <td>48.00</td>\n",
       "    </tr>\n",
       "    <tr>\n",
       "      <th>17</th>\n",
       "      <td>1540</td>\n",
       "      <td>3</td>\n",
       "      <td>60.00</td>\n",
       "    </tr>\n",
       "    <tr>\n",
       "      <th>18</th>\n",
       "      <td>2770</td>\n",
       "      <td>3</td>\n",
       "      <td>102.00</td>\n",
       "    </tr>\n",
       "    <tr>\n",
       "      <th>19</th>\n",
       "      <td>800</td>\n",
       "      <td>1</td>\n",
       "      <td>32.00</td>\n",
       "    </tr>\n",
       "  </tbody>\n",
       "</table>\n",
       "</div>"
      ],
      "text/plain": [
       "    area  bedrooms   price\n",
       "0   1056         2   39.07\n",
       "1   2600         4  120.00\n",
       "2   1440         3   62.00\n",
       "3   1521         3   75.00\n",
       "4   1200         2   51.00\n",
       "5   1170         2   38.00\n",
       "6   2732         4  135.00\n",
       "7   3300         4  155.00\n",
       "8   1310         3   50.00\n",
       "9   3700         5  167.00\n",
       "10  1800         3   82.00\n",
       "11  2785         4  140.00\n",
       "12  1000         2   38.00\n",
       "13  1100         2   40.00\n",
       "14  2250         3  101.00\n",
       "15  1175         2   42.00\n",
       "16  1180         3   48.00\n",
       "17  1540         3   60.00\n",
       "18  2770         3  102.00\n",
       "19   800         1   32.00"
      ]
     },
     "execution_count": 4,
     "metadata": {},
     "output_type": "execute_result"
    }
   ],
   "source": [
    "df = pd.read_csv('homeprices_banglore.csv')\n",
    "df"
   ]
  },
  {
   "cell_type": "code",
   "execution_count": 5,
   "metadata": {},
   "outputs": [
    {
     "data": {
      "text/plain": [
       "array([[0.05237037],\n",
       "       [0.65185185],\n",
       "       [0.22222222],\n",
       "       [0.31851852],\n",
       "       [0.14074074],\n",
       "       [0.04444444],\n",
       "       [0.76296296],\n",
       "       [0.91111111],\n",
       "       [0.13333333],\n",
       "       [1.        ],\n",
       "       [0.37037037],\n",
       "       [0.8       ],\n",
       "       [0.04444444],\n",
       "       [0.05925926],\n",
       "       [0.51111111],\n",
       "       [0.07407407],\n",
       "       [0.11851852],\n",
       "       [0.20740741],\n",
       "       [0.51851852],\n",
       "       [0.        ]])"
      ]
     },
     "execution_count": 5,
     "metadata": {},
     "output_type": "execute_result"
    }
   ],
   "source": [
    "from sklearn import preprocessing\n",
    "sx = preprocessing.MinMaxScaler()\n",
    "sy = preprocessing.MinMaxScaler()\n",
    "\n",
    "scaled_X = sx.fit_transform(df.drop('price',axis='columns'))\n",
    "scaled_y = sy.fit_transform(df['price'].values.reshape(df.shape[0],1))\n",
    "\n",
    "scaled_y"
   ]
  },
  {
   "cell_type": "code",
   "execution_count": 12,
   "metadata": {},
   "outputs": [],
   "source": [
    "def batch_gradient_descent(X,y_true,epochs,learning_rate = 0.01):\n",
    "    num_features = X.shape[1]\n",
    "    w = np.ones(shape = num_features)\n",
    "    b = 0\n",
    "    total_samples = X.shape[0]\n",
    "    for i in range(epochs):\n",
    "        y_predicted = np.dot(w,scaled_X.T)+b\n",
    "        w_grad = -(2/total_samples)*(X.T.dot(y_true-y_predicted))\n",
    "        b_grad = -(2/total_samples)*np.sum(y_true-y_predicted)\n",
    "        w = w - learning_rate * w_grad\n",
    "        b = b - learning_rate * b_grad\n",
    "        cost = np.mean(np.square(y_true-y_predicted)) # MSE (Mean Squared Error)\n",
    "        \n",
    "        if i%10==0:\n",
    "            cost_list.append(cost)\n",
    "            epoch_list.append(i)\n",
    "        \n",
    "    return w, b, cost, cost_list, epoch_list"
   ]
  },
  {
   "cell_type": "code",
   "execution_count": 14,
   "metadata": {},
   "outputs": [
    {
     "data": {
      "text/plain": [
       "(array([0.70712464, 0.67456527]), -0.23034857438407427, 0.0068641890429808105)"
      ]
     },
     "execution_count": 14,
     "metadata": {},
     "output_type": "execute_result"
    }
   ],
   "source": [
    "w = []\n",
    "b = []\n",
    "cost = []\n",
    "cost_list = []\n",
    "epoch_list = []\n",
    "w, b, cost, cost_list, epoch_list = batch_gradient_descent(scaled_X,scaled_y.reshape(scaled_y.shape[0],),500)\n",
    "w, b, cost"
   ]
  },
  {
   "cell_type": "code",
   "execution_count": 15,
   "metadata": {},
   "outputs": [
    {
     "data": {
      "text/plain": [
       "[<matplotlib.lines.Line2D at 0x7f87511d8400>]"
      ]
     },
     "execution_count": 15,
     "metadata": {},
     "output_type": "execute_result"
    },
    {
     "data": {
      "image/png": "[encoded data removed]",
      "text/plain": [
       "<Figure size 432x288 with 1 Axes>"
      ]
     },
     "metadata": {
      "needs_background": "light"
     },
     "output_type": "display_data"
    }
   ],
   "source": [
    "plt.xlabel(\"epoch\")\n",
    "plt.ylabel(\"cost\")\n",
    "plt.plot(epoch_list,cost_list)"
   ]
  },
  {
   "cell_type": "code",
   "execution_count": 16,
   "metadata": {},
   "outputs": [
    {
     "data": {
      "text/plain": [
       "array([[0.62068966, 0.75      ]])"
      ]
     },
     "execution_count": 16,
     "metadata": {},
     "output_type": "execute_result"
    }
   ],
   "source": [
    "sx.transform([[2600,4]])\n",
    "    "
   ]
  },
  {
   "cell_type": "code",
   "execution_count": 19,
   "metadata": {},
   "outputs": [
    {
     "data": {
      "text/plain": [
       "128.45484403267596"
      ]
     },
     "execution_count": 19,
     "metadata": {},
     "output_type": "execute_result"
    }
   ],
   "source": [
    "def predict(area,bedrooms,w,b):\n",
    "    scaled_X = sx.transform([[area,bedrooms]])[0]\n",
    "    scaled_price = w[0]*scaled_X[0]+w[1]*scaled_X[1]+b\n",
    "    return sy.inverse_transform([[scaled_price]])[0][0]\n",
    "predict(2600,4,w,b)"
   ]
  },
  {
   "cell_type": "code",
   "execution_count": 28,
   "metadata": {},
   "outputs": [],
   "source": [
    "import random\n",
    "def stochastic_gradient_descent(X,y_true,epochs,learning_rate=0.01):\n",
    "    number_of_features = X.shape[1]\n",
    "    w = np.ones(shape=(number_of_features))\n",
    "    b = 0\n",
    "    total_samples = X.shape[0]\n",
    "    cost_list = []\n",
    "    epoch_list = []\n",
    "    for i in range(epochs):\n",
    "        random_index = random.randint(0,total_samples-1)\n",
    "        sample_x = X[random_index]\n",
    "        sample_y = y_true[random_index]\n",
    "        y_predicted = np.dot(w,sample_x.T) + b\n",
    "        w_grad = -(2/total_samples)*(X.T.dot(y_true-y_predicted))\n",
    "        b_grad = -(2/total_samples)*np.sum(y_true-y_predicted)\n",
    "        w = w - learning_rate * w_grad\n",
    "        b = b - learning_rate * b_grad\n",
    "        cost = np.mean(np.square(y_true-y_predicted)) # MSE (Mean Squared Error)\n",
    "        \n",
    "        if i%100 == 0:\n",
    "            cost_list.append(cost)\n",
    "            epoch_list.append(i) \n",
    "    return w,b,cost_list,epoch_list"
   ]
  },
  {
   "cell_type": "code",
   "execution_count": 29,
   "metadata": {},
   "outputs": [
    {
     "data": {
      "text/plain": [
       "(array([16.00604489, 10.40468983]),\n",
       " -8.646539933946725,\n",
       " [0.09986786592452318,\n",
       "  1.3660658174110685,\n",
       "  2.225436672264757,\n",
       "  0.6481655322236123,\n",
       "  0.5620235187744687,\n",
       "  0.9364787690942625,\n",
       "  0.7278424817322012,\n",
       "  0.1318535262536939,\n",
       "  0.6300426282342098,\n",
       "  1.205434074366336,\n",
       "  1.7880752965534228,\n",
       "  0.10190010626222734,\n",
       "  0.10101843049955919,\n",
       "  4.828498161577779,\n",
       "  0.4751529704431359,\n",
       "  3.7062549197509194,\n",
       "  1.8288629275510917,\n",
       "  0.8390606831025569,\n",
       "  3.3993915791198135,\n",
       "  0.42525464659270185,\n",
       "  0.3005109949899837,\n",
       "  2.133519388547761,\n",
       "  3.3896382682605415,\n",
       "  3.4636050098959985,\n",
       "  0.15597240219248493,\n",
       "  0.1747951991133026,\n",
       "  9.695647967208012,\n",
       "  7.922906900076202,\n",
       "  6.0108150162771405,\n",
       "  27.35230638457741,\n",
       "  12.669740839172091,\n",
       "  4.300260795306295,\n",
       "  7.011610820598497,\n",
       "  6.422598577810834,\n",
       "  3.1541953204037965,\n",
       "  0.1380468131940083,\n",
       "  46.97930081722709,\n",
       "  6.750917681857089,\n",
       "  9.172521192427974,\n",
       "  0.6188707440821684,\n",
       "  13.7308534901233,\n",
       "  0.3211999595087319,\n",
       "  0.39221155960733994,\n",
       "  7.104610403713616,\n",
       "  9.868024920647336,\n",
       "  23.916142800249332,\n",
       "  1.7603075443899534,\n",
       "  0.8684965708666283,\n",
       "  0.9087924924572859,\n",
       "  31.98394567564811,\n",
       "  0.9988458259757017,\n",
       "  3.2217264869022033,\n",
       "  0.4080070571346483,\n",
       "  17.933466828334637,\n",
       "  1.9248541620014676,\n",
       "  5.067118977606716,\n",
       "  34.66449727279468,\n",
       "  28.18523429869007,\n",
       "  12.703451123089728,\n",
       "  0.12484601695787531,\n",
       "  18.018997964168552,\n",
       "  42.34315582107048,\n",
       "  44.51173659808593,\n",
       "  9.370007665583595,\n",
       "  39.09073786196738,\n",
       "  50.15132517667537,\n",
       "  0.23779369023666236,\n",
       "  25.686952260318613,\n",
       "  17.346785561342607,\n",
       "  51.054231283702094,\n",
       "  16.935933584550238,\n",
       "  11.739768835070986,\n",
       "  1.9184175221472894,\n",
       "  1.0991322348707535,\n",
       "  0.2798201897829608,\n",
       "  26.134787379596855,\n",
       "  16.762265900838383,\n",
       "  0.4079236649279678,\n",
       "  30.147048693173254,\n",
       "  32.33772481593319,\n",
       "  5.565624152019217,\n",
       "  24.742768863824015,\n",
       "  13.563022665281139,\n",
       "  22.9888772511349,\n",
       "  9.537967196561464,\n",
       "  1.52817021329872,\n",
       "  0.6074037572681275,\n",
       "  44.47675973248997,\n",
       "  19.322565653575253,\n",
       "  13.285524731742484,\n",
       "  31.10858961442663,\n",
       "  0.5169026345029777,\n",
       "  78.10714567491695,\n",
       "  28.682257179665648,\n",
       "  30.420318380000424,\n",
       "  2.8290673550979935,\n",
       "  40.59661638029299,\n",
       "  42.99823146286988,\n",
       "  124.43322482905182,\n",
       "  34.977631827443744],\n",
       " [0,\n",
       "  100,\n",
       "  200,\n",
       "  300,\n",
       "  400,\n",
       "  500,\n",
       "  600,\n",
       "  700,\n",
       "  800,\n",
       "  900,\n",
       "  1000,\n",
       "  1100,\n",
       "  1200,\n",
       "  1300,\n",
       "  1400,\n",
       "  1500,\n",
       "  1600,\n",
       "  1700,\n",
       "  1800,\n",
       "  1900,\n",
       "  2000,\n",
       "  2100,\n",
       "  2200,\n",
       "  2300,\n",
       "  2400,\n",
       "  2500,\n",
       "  2600,\n",
       "  2700,\n",
       "  2800,\n",
       "  2900,\n",
       "  3000,\n",
       "  3100,\n",
       "  3200,\n",
       "  3300,\n",
       "  3400,\n",
       "  3500,\n",
       "  3600,\n",
       "  3700,\n",
       "  3800,\n",
       "  3900,\n",
       "  4000,\n",
       "  4100,\n",
       "  4200,\n",
       "  4300,\n",
       "  4400,\n",
       "  4500,\n",
       "  4600,\n",
       "  4700,\n",
       "  4800,\n",
       "  4900,\n",
       "  5000,\n",
       "  5100,\n",
       "  5200,\n",
       "  5300,\n",
       "  5400,\n",
       "  5500,\n",
       "  5600,\n",
       "  5700,\n",
       "  5800,\n",
       "  5900,\n",
       "  6000,\n",
       "  6100,\n",
       "  6200,\n",
       "  6300,\n",
       "  6400,\n",
       "  6500,\n",
       "  6600,\n",
       "  6700,\n",
       "  6800,\n",
       "  6900,\n",
       "  7000,\n",
       "  7100,\n",
       "  7200,\n",
       "  7300,\n",
       "  7400,\n",
       "  7500,\n",
       "  7600,\n",
       "  7700,\n",
       "  7800,\n",
       "  7900,\n",
       "  8000,\n",
       "  8100,\n",
       "  8200,\n",
       "  8300,\n",
       "  8400,\n",
       "  8500,\n",
       "  8600,\n",
       "  8700,\n",
       "  8800,\n",
       "  8900,\n",
       "  9000,\n",
       "  9100,\n",
       "  9200,\n",
       "  9300,\n",
       "  9400,\n",
       "  9500,\n",
       "  9600,\n",
       "  9700,\n",
       "  9800,\n",
       "  9900])"
      ]
     },
     "execution_count": 29,
     "metadata": {},
     "output_type": "execute_result"
    }
   ],
   "source": [
    "wg = []\n",
    "bg = []\n",
    "costs = []\n",
    "eps = []\n",
    "wg , bg , costs , eps = stochastic_gradient_descent(scaled_X,scaled_y.reshape(scaled_y.shape[0],),10000)\n",
    "wg,bg,costs,eps"
   ]
  },
  {
   "cell_type": "code",
   "execution_count": 30,
   "metadata": {},
   "outputs": [
    {
     "data": {
      "text/plain": [
       "[<matplotlib.lines.Line2D at 0x7f875116d640>]"
      ]
     },
     "execution_count": 30,
     "metadata": {},
     "output_type": "execute_result"
    },
    {
     "data": {
      "image/png": "[encoded data removed]",
      "text/plain": [
       "<Figure size 432x288 with 1 Axes>"
      ]
     },
     "metadata": {
      "needs_background": "light"
     },
     "output_type": "display_data"
    }
   ],
   "source": [
    "plt.xlabel('epoch')\n",
    "plt.ylabel('cost')\n",
    "plt.plot(eps,costs)"
   ]
  },
  {
   "cell_type": "code",
   "execution_count": null,
   "metadata": {},
   "outputs": [],
   "source": []
  }
 ],
 "metadata": {
  "kernelspec": {
   "display_name": "Python 3",
   "language": "python",
   "name": "python3"
  },
  "language_info": {
   "codemirror_mode": {
    "name": "ipython",
    "version": 3
   },
   "file_extension": ".py",
   "mimetype": "text/x-python",
   "name": "python",
   "nbconvert_exporter": "python",
   "pygments_lexer": "ipython3",
   "version": "3.8.3"
  }
 },
 "nbformat": 4,
 "nbformat_minor": 4
}
